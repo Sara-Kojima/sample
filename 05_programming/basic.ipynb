{
 "cells": [
  {
   "cell_type": "code",
   "execution_count": 2,
   "id": "f9ee72a8",
   "metadata": {},
   "outputs": [
    {
     "name": "stdout",
     "output_type": "stream",
     "text": [
      "5\n"
     ]
    }
   ],
   "source": [
    "a = 10\n",
    "b = -5\n",
    "c = 0\n",
    "print(a + b)  # 5"
   ]
  },
  {
   "cell_type": "code",
   "execution_count": 3,
   "id": "6594e7dd",
   "metadata": {},
   "outputs": [
    {
     "name": "stdout",
     "output_type": "stream",
     "text": [
      "3.3333333333333335\n",
      "3\n"
     ]
    }
   ],
   "source": [
    "print(10 / 3)   # 3.3333333\n",
    "print(10 // 3)  # 3"
   ]
  },
  {
   "cell_type": "code",
   "execution_count": 4,
   "id": "313b5f7f",
   "metadata": {},
   "outputs": [
    {
     "name": "stdout",
     "output_type": "stream",
     "text": [
      "0.30000000000000004\n"
     ]
    }
   ],
   "source": [
    "x = 3.14\n",
    "y = 0.1 + 0.2  # 浮動小数点誤差\n",
    "print(y)  # 0.30000000000000004"
   ]
  },
  {
   "cell_type": "code",
   "execution_count": 5,
   "id": "37661d6a",
   "metadata": {},
   "outputs": [
    {
     "name": "stdout",
     "output_type": "stream",
     "text": [
      "(1+3.5j)\n"
     ]
    }
   ],
   "source": [
    "c = 2 + 3j\n",
    "d = -1 + 0.5j\n",
    "print(c + d)  # (1+3.5j)\n"
   ]
  },
  {
   "cell_type": "code",
   "execution_count": 6,
   "id": "b9de1aa0",
   "metadata": {},
   "outputs": [
    {
     "name": "stdout",
     "output_type": "stream",
     "text": [
      "Hello, World!\n"
     ]
    }
   ],
   "source": [
    "text = \"Hello, World!\"\n",
    "print(text)"
   ]
  },
  {
   "cell_type": "code",
   "execution_count": 7,
   "id": "5c3467f0",
   "metadata": {},
   "outputs": [
    {
     "name": "stdout",
     "output_type": "stream",
     "text": [
      "PYTHON\n",
      "python\n"
     ]
    }
   ],
   "source": [
    "text = \"Python\"\n",
    "print(text.upper())  # 'PYTHON'\n",
    "print(text.lower())  # 'python'"
   ]
  },
  {
   "cell_type": "code",
   "execution_count": 8,
   "id": "c5d95275",
   "metadata": {},
   "outputs": [
    {
     "name": "stdout",
     "output_type": "stream",
     "text": [
      "True\n",
      "False\n"
     ]
    }
   ],
   "source": [
    "a = 5\n",
    "b = 10\n",
    "print(a < b)  # True\n",
    "print(a == b)  # False\n"
   ]
  },
  {
   "cell_type": "code",
   "execution_count": 9,
   "id": "c4a4154b",
   "metadata": {},
   "outputs": [
    {
     "name": "stdout",
     "output_type": "stream",
     "text": [
      "None\n"
     ]
    }
   ],
   "source": [
    "x = None\n",
    "print(x)  # None"
   ]
  },
  {
   "cell_type": "code",
   "execution_count": 10,
   "id": "fafac9bb",
   "metadata": {},
   "outputs": [
    {
     "name": "stdout",
     "output_type": "stream",
     "text": [
      "加算: 13\n",
      "割算: 3.3333333333333335\n",
      "累乗: 1000\n"
     ]
    }
   ],
   "source": [
    "a = 10\n",
    "b = 3\n",
    "print(\"加算:\", a + b)  # 13\n",
    "print(\"割算:\", a / b)  # 3.3333...\n",
    "print(\"累乗:\", a ** b)  # 1000"
   ]
  },
  {
   "cell_type": "code",
   "execution_count": null,
   "id": "6317ca59",
   "metadata": {},
   "outputs": [],
   "source": []
  },
  {
   "cell_type": "code",
   "execution_count": 1,
   "id": "a1344fe3",
   "metadata": {},
   "outputs": [
    {
     "name": "stdout",
     "output_type": "stream",
     "text": [
      "3科目の平均点は 83.33333333333333 点です\n"
     ]
    }
   ],
   "source": [
    "# 各科目の点数を変数として定義\n",
    "japanese = 85  # 国語\n",
    "math = 90      # 数学\n",
    "english = 75   # 英語\n",
    "\n",
    "# 平均点を計算\n",
    "average = (japanese + math + english) / 3\n",
    "\n",
    "# 結果を表示\n",
    "print(\"3科目の平均点は\", average, \"点です\")"
   ]
  },
  {
   "cell_type": "code",
   "execution_count": 11,
   "id": "4198786a",
   "metadata": {},
   "outputs": [
    {
     "ename": "TypeError",
     "evalue": "unsupported operand type(s) for *: 'set' and 'set'",
     "output_type": "error",
     "traceback": [
      "\u001b[31m---------------------------------------------------------------------------\u001b[39m",
      "\u001b[31mTypeError\u001b[39m                                 Traceback (most recent call last)",
      "\u001b[36mCell\u001b[39m\u001b[36m \u001b[39m\u001b[32mIn[11]\u001b[39m\u001b[32m, line 6\u001b[39m\n\u001b[32m      4\u001b[39m \u001b[38;5;66;03m# [B]: 「税込価格」を計算する（消費税率は10%）\u001b[39;00m\n\u001b[32m      5\u001b[39m tax_rate = \u001b[32m0.10\u001b[39m\n\u001b[32m----> \u001b[39m\u001b[32m6\u001b[39m tax_included_price = tax_excluded_price + (\u001b[43m{\u001b[49m\u001b[43mtax_excluded_price\u001b[49m\u001b[43m}\u001b[49m\u001b[43m \u001b[49m\u001b[43m*\u001b[49m\u001b[43m \u001b[49m\u001b[43m{\u001b[49m\u001b[43mtax_rate\u001b[49m\u001b[43m}\u001b[49m)\n\u001b[32m      8\u001b[39m \u001b[38;5;66;03m# [C]、[D]: 送料の計算（2000円以上かどうかを判定して分岐する）\u001b[39;00m\n\u001b[32m      9\u001b[39m \u001b[38;5;28;01mif\u001b[39;00m tax_included_price >= \u001b[32m2000\u001b[39m:\n",
      "\u001b[31mTypeError\u001b[39m: unsupported operand type(s) for *: 'set' and 'set'"
     ]
    }
   ],
   "source": [
    "# [A]: 「税抜価格」をユーザーから取得し、数値に変換する\n",
    "tax_excluded_price = int(input(\"税抜価格を入力してください: \"))\n",
    "\n",
    "# [B]: 「税込価格」を計算する（消費税率は10%）\n",
    "tax_rate = 0.10\n",
    "tax_included_price = tax_excluded_price + ({tax_excluded_price} * {tax_rate})\n",
    "\n",
    "# [C]、[D]: 送料の計算（2000円以上かどうかを判定して分岐する）\n",
    "if tax_included_price >= 2000:\n",
    "    shipping_cost = 0\n",
    "    print(\"送料は無料です\")\n",
    "else:\n",
    "    shipping_cost = 350\n",
    "    print(f\"送料は{shipping_cost}円です\")\n",
    "\n",
    "# [E]: 送料込税込価格を計算して、変数に代入する\n",
    "total_price = {tax_included_price} + {shipping_cost}\n",
    "\n",
    "# 「送料込税込価格」を少数を含めずに出力する\n",
    "print(f\"送料込税込価格は{total_price:.0f}円です\")"
   ]
  },
  {
   "cell_type": "code",
   "execution_count": 12,
   "id": "b7b8befe",
   "metadata": {},
   "outputs": [
    {
     "ename": "TypeError",
     "evalue": "can't multiply sequence by non-int of type 'str'",
     "output_type": "error",
     "traceback": [
      "\u001b[31m---------------------------------------------------------------------------\u001b[39m",
      "\u001b[31mTypeError\u001b[39m                                 Traceback (most recent call last)",
      "\u001b[36mCell\u001b[39m\u001b[36m \u001b[39m\u001b[32mIn[12]\u001b[39m\u001b[32m, line 6\u001b[39m\n\u001b[32m      4\u001b[39m \u001b[38;5;66;03m# [B]: 「税込価格」を計算する（消費税率は10%）\u001b[39;00m\n\u001b[32m      5\u001b[39m tax_rate = \u001b[32m0.10\u001b[39m\n\u001b[32m----> \u001b[39m\u001b[32m6\u001b[39m tax_included_price = \u001b[33m'\u001b[39m\u001b[33mtax_excluded_price\u001b[39m\u001b[33m'\u001b[39m + (\u001b[33;43m'\u001b[39;49m\u001b[33;43mtax_excluded_price\u001b[39;49m\u001b[33;43m'\u001b[39;49m\u001b[43m \u001b[49m\u001b[43m*\u001b[49m\u001b[43m \u001b[49m\u001b[33;43m'\u001b[39;49m\u001b[33;43mtax_rate\u001b[39;49m\u001b[33;43m'\u001b[39;49m)\n\u001b[32m      8\u001b[39m \u001b[38;5;66;03m# [C]、[D]: 送料の計算（2000円以上かどうかを判定して分岐する）\u001b[39;00m\n\u001b[32m      9\u001b[39m \u001b[38;5;28;01mif\u001b[39;00m tax_included_price >= \u001b[32m2000\u001b[39m:\n",
      "\u001b[31mTypeError\u001b[39m: can't multiply sequence by non-int of type 'str'"
     ]
    }
   ],
   "source": [
    "# [A]: 「税抜価格」をユーザーから取得し、数値に変換する\n",
    "tax_excluded_price = int(input(\"税抜価格を入力してください: \"))\n",
    "\n",
    "# [B]: 「税込価格」を計算する（消費税率は10%）\n",
    "tax_rate = 0.10\n",
    "tax_included_price = 'tax_excluded_price' + ('tax_excluded_price' * 'tax_rate')\n",
    "\n",
    "# [C]、[D]: 送料の計算（2000円以上かどうかを判定して分岐する）\n",
    "if tax_included_price >= 2000:\n",
    "    shipping_cost = 0\n",
    "    print(\"送料は無料です\")\n",
    "else:\n",
    "    shipping_cost = 350\n",
    "    print(f\"送料は{shipping_cost}円です\")\n",
    "\n",
    "# [E]: 送料込税込価格を計算して、変数に代入する\n",
    "total_price = 'tax_included_price' + 'shipping_cost'\n",
    "\n",
    "# 「送料込税込価格」を少数を含めずに出力する\n",
    "print(f\"送料込税込価格は{total_price:.0f}円です\")"
   ]
  },
  {
   "cell_type": "code",
   "execution_count": 13,
   "id": "b40f5f83",
   "metadata": {},
   "outputs": [
    {
     "name": "stdout",
     "output_type": "stream",
     "text": [
      "送料は無料です\n",
      "送料込税込価格は3300円です\n"
     ]
    }
   ],
   "source": [
    "# [A]: 「税抜価格」をユーザーから取得し、数値に変換する\n",
    "tax_excluded_price = float(input(\"税抜価格を入力してください: \"))\n",
    "\n",
    "# [B]: 「税込価格」を計算する（消費税率は10%）\n",
    "tax_rate = 0.10\n",
    "tax_included_price = tax_excluded_price * (1 + tax_rate)\n",
    "\n",
    "# [C]、[D]: 送料の計算（2000円以上かどうかを判定して分岐する）\n",
    "if tax_included_price >= 2000:\n",
    "    shipping_cost = 0\n",
    "    print(\"送料は無料です\")\n",
    "else:\n",
    "    shipping_cost = 350\n",
    "    print(f\"送料は{shipping_cost}円です\")\n",
    "\n",
    "# [E]: 送料込税込価格を計算して、変数に代入する\n",
    "total_price = tax_included_price + shipping_cost\n",
    "\n",
    "# 「送料込税込価格」を少数を含めずに出力する\n",
    "print(f\"送料込税込価格は{total_price:.0f}円です\")"
   ]
  }
 ],
 "metadata": {
  "kernelspec": {
   "display_name": ".venv",
   "language": "python",
   "name": "python3"
  },
  "language_info": {
   "codemirror_mode": {
    "name": "ipython",
    "version": 3
   },
   "file_extension": ".py",
   "mimetype": "text/x-python",
   "name": "python",
   "nbconvert_exporter": "python",
   "pygments_lexer": "ipython3",
   "version": "3.12.7"
  }
 },
 "nbformat": 4,
 "nbformat_minor": 5
}
